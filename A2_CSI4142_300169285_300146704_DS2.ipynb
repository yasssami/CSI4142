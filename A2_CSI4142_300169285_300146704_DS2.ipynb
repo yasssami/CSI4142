{
 "cells": [
  {
   "cell_type": "markdown",
   "metadata": {},
   "source": [
    "# **CSI 4142 Assignment 2 - Part 2: Imputation** ##\n",
    "**Group 119:**\\\n",
    "Sami Hassan,\n",
    "300169285\\\n",
    "Yassine Sami, 300146704"
   ]
  },
  {
   "cell_type": "markdown",
   "metadata": {},
   "source": [
    "> # **Introduction**\n",
    "The goal of this report is to explore three different imputation"
   ]
  }
 ],
 "metadata": {
  "language_info": {
   "name": "python"
  }
 },
 "nbformat": 4,
 "nbformat_minor": 2
}
